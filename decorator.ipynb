{
 "cells": [
  {
   "attachments": {},
   "cell_type": "markdown",
   "metadata": {},
   "source": [
    "## 一些需要明确的知识"
   ]
  },
  {
   "attachments": {},
   "cell_type": "markdown",
   "metadata": {},
   "source": [
    "1.Python中一切皆对象(`object`),函数也是一个对象(`code object`).\n",
    "\n",
    "函数是一个可调用(`callable`)的对象."
   ]
  },
  {
   "cell_type": "code",
   "execution_count": 1,
   "metadata": {},
   "outputs": [
    {
     "data": {
      "text/plain": [
       "<function __main__.f()>"
      ]
     },
     "execution_count": 1,
     "metadata": {},
     "output_type": "execute_result"
    }
   ],
   "source": [
    "def f():\n",
    "    pass\n",
    "f"
   ]
  },
  {
   "attachments": {},
   "cell_type": "markdown",
   "metadata": {},
   "source": [
    "2.Python中函数可以作为参数传入另一个函数"
   ]
  },
  {
   "cell_type": "code",
   "execution_count": 2,
   "metadata": {},
   "outputs": [
    {
     "name": "stdout",
     "output_type": "stream",
     "text": [
      "6\n",
      "9\n"
     ]
    }
   ],
   "source": [
    "def double(x):\n",
    "    return x * 2\n",
    "\n",
    "def triple(x):\n",
    "    return x * 3\n",
    "\n",
    "# 函数作为一个参数传入另一个函数\n",
    "def calc_number(func, x):\n",
    "    print(func(x))\n",
    "\n",
    "calc_number(double, 3)\n",
    "calc_number(triple, 3)"
   ]
  },
  {
   "attachments": {},
   "cell_type": "markdown",
   "metadata": {},
   "source": [
    "3.Python中函数的返回值也可以是一个函数。"
   ]
  },
  {
   "cell_type": "code",
   "execution_count": 3,
   "metadata": {},
   "outputs": [
    {
     "name": "stdout",
     "output_type": "stream",
     "text": [
      "6\n",
      "9\n"
     ]
    }
   ],
   "source": [
    "def get_multiple_func(n):\n",
    "\n",
    "    def multiple(x):\n",
    "        return n * x\n",
    "\n",
    "    return multiple\n",
    "\n",
    "double = get_multiple_func(2)\n",
    "triple = get_multiple_func(3)\n",
    "\n",
    "print(double(3))\n",
    "print(triple(3))"
   ]
  },
  {
   "attachments": {},
   "cell_type": "markdown",
   "metadata": {},
   "source": [
    "## Decorator详解"
   ]
  },
  {
   "attachments": {},
   "cell_type": "markdown",
   "metadata": {},
   "source": [
    "### 函数类型的Decorator"
   ]
  },
  {
   "cell_type": "code",
   "execution_count": 4,
   "metadata": {},
   "outputs": [],
   "source": [
    "def dec(f):\n",
    "    pass\n",
    "\n",
    "@dec\n",
    "def double(x):\n",
    "    return x * 2\n",
    "\n",
    "# # 完全等价于：\n",
    "# double = dec(double)"
   ]
  },
  {
   "attachments": {},
   "cell_type": "markdown",
   "metadata": {},
   "source": [
    "上述代码完全等价于`double = dec(double)`,\n",
    "可以看出装饰器`@dec`本质上是一个输入输出都为函数的函数(输出不一定强制要求为函数，但是一般使用输出都为函数)。\n",
    "\n",
    "下面给出一个具体的例子："
   ]
  },
  {
   "cell_type": "code",
   "execution_count": 5,
   "metadata": {},
   "outputs": [
    {
     "name": "stdout",
     "output_type": "stream",
     "text": [
      "1.0010404586791992\n",
      "None\n",
      "1.9073486328125e-06\n",
      "2\n"
     ]
    }
   ],
   "source": [
    "import time\n",
    "\n",
    "# 装饰器，打印函数每次允许的时间\n",
    "def timeit(f):\n",
    "    # 输入为一个函数 \n",
    "    def wrapper(x):\n",
    "        start = time.time()\n",
    "        ret = f(x)\n",
    "        print(time.time() - start)\n",
    "        return ret\n",
    "    # 返回也是一个函数\n",
    "    return wrapper\n",
    "\n",
    "@timeit\n",
    "def my_func(x):\n",
    "    time.sleep(x)\n",
    "\n",
    "@timeit\n",
    "def other_func(x):\n",
    "    return x * 2\n",
    "\n",
    "print(my_func(1))\n",
    "print(other_func(1))"
   ]
  },
  {
   "attachments": {},
   "cell_type": "markdown",
   "metadata": {},
   "source": [
    "标准写法：使用变长函数参数"
   ]
  },
  {
   "cell_type": "code",
   "execution_count": 6,
   "metadata": {},
   "outputs": [
    {
     "name": "stdout",
     "output_type": "stream",
     "text": [
      "1.0010452270507812\n",
      "None\n",
      "3.337860107421875e-06\n",
      "3\n"
     ]
    }
   ],
   "source": [
    "import time\n",
    "\n",
    "# 装饰器，打印函数每次允许的时间\n",
    "def timeit(f):\n",
    "    # 输入为一个函数 \n",
    "    def wrapper(*args, **kwargs):\n",
    "        # 函数接收变长参数\n",
    "        start = time.time()\n",
    "        ret = f(*args, **kwargs)\n",
    "        print(time.time() - start)\n",
    "        return ret\n",
    "    # 返回也是一个函数\n",
    "    return wrapper\n",
    "\n",
    "@timeit\n",
    "def my_func(x):\n",
    "    time.sleep(x)\n",
    "\n",
    "@timeit\n",
    "def add(x, y):\n",
    "    return x + y\n",
    "\n",
    "print(my_func(1))\n",
    "print(add(1, 2))"
   ]
  },
  {
   "attachments": {},
   "cell_type": "markdown",
   "metadata": {},
   "source": [
    "进阶：带参数的装饰器"
   ]
  },
  {
   "cell_type": "code",
   "execution_count": 7,
   "metadata": {},
   "outputs": [
    {
     "name": "stdout",
     "output_type": "stream",
     "text": [
      "3.003140926361084\n",
      "None\n",
      "0.00033164024353027344\n",
      "3\n"
     ]
    }
   ],
   "source": [
    "import time\n",
    "\n",
    "def timeit(iteration):\n",
    "    # 打印运行iteration次的运行时间\n",
    "    def inner(f):\n",
    "        def wrapper(*args, **kwargs):\n",
    "            start = time.time()\n",
    "            for _ in range(iteration):\n",
    "                ret = f(*args, **kwargs)\n",
    "            print(time.time() - start)\n",
    "            return ret\n",
    "        return wrapper\n",
    "    return inner\n",
    "\n",
    "@timeit(3)\n",
    "def my_func(x):\n",
    "    time.sleep(x)\n",
    "\n",
    "@timeit(1000)\n",
    "def add(x, y):\n",
    "    return x + y\n",
    "\n",
    "print(my_func(1))\n",
    "print(add(1, 2))"
   ]
  },
  {
   "attachments": {},
   "cell_type": "markdown",
   "metadata": {},
   "source": [
    "上述代码等价于:\n",
    "```python\n",
    "inner = timeit(1000)\n",
    "add = inner(add)\n",
    "```"
   ]
  },
  {
   "attachments": {},
   "cell_type": "markdown",
   "metadata": {},
   "source": [
    "### Class类型的装饰器(装饰器类)"
   ]
  },
  {
   "cell_type": "code",
   "execution_count": 8,
   "metadata": {},
   "outputs": [
    {
     "name": "stdout",
     "output_type": "stream",
     "text": [
      "<class '__main__.Timer'>\n",
      "Time:9.5367431640625e-07\n",
      "4\n"
     ]
    }
   ],
   "source": [
    "import time\n",
    "\n",
    "class Timer:\n",
    "    def __init__(self, func):\n",
    "        self.func = func\n",
    "\n",
    "    def __call__(self, *args, **kwargs):\n",
    "        start = time.time()\n",
    "        ret = self.func(*args, **kwargs)\n",
    "        print(f\"Time:{time.time()-start}\")\n",
    "        return ret\n",
    "\n",
    "@Timer\n",
    "def add(a, b):\n",
    "    return a + b\n",
    "\n",
    "print(type(add))\n",
    "print(add(1, 3))"
   ]
  },
  {
   "attachments": {},
   "cell_type": "markdown",
   "metadata": {},
   "source": [
    "上述代码等价于：`add = Timer(add)`\n",
    "\n",
    "下面展示带参数的例子："
   ]
  },
  {
   "cell_type": "code",
   "execution_count": 9,
   "metadata": {},
   "outputs": [
    {
     "name": "stdout",
     "output_type": "stream",
     "text": [
      "curr_time:9.5367431640625e-07\n",
      "4\n"
     ]
    }
   ],
   "source": [
    "class Timer:\n",
    "    def __init__(self, prefix):\n",
    "        self.prefix = prefix\n",
    "\n",
    "    def __call__(self, func):\n",
    "        def wrapper(*args, **kwargs):\n",
    "            start = time.time()\n",
    "            ret = func(*args, **kwargs)\n",
    "            print(f\"{self.prefix}{time.time() - start}\")\n",
    "            return ret\n",
    "        return wrapper\n",
    "\n",
    "@Timer(prefix=\"curr_time:\")\n",
    "def add(a, b):\n",
    "    return a + b\n",
    "\n",
    "print(add(1, 3))"
   ]
  },
  {
   "attachments": {},
   "cell_type": "markdown",
   "metadata": {},
   "source": [
    "上述代码等价于：`add = Timer(prefix='current_time:')(add)`"
   ]
  },
  {
   "attachments": {},
   "cell_type": "markdown",
   "metadata": {},
   "source": [
    "### 装饰类的装饰器(类装饰器)"
   ]
  },
  {
   "cell_type": "code",
   "execution_count": 10,
   "metadata": {},
   "outputs": [
    {
     "name": "stdout",
     "output_type": "stream",
     "text": [
      "{'a': 1, 'b': 2}\n"
     ]
    }
   ],
   "source": [
    "def add_str(cls):\n",
    "    def __str__(self):\n",
    "        return str(self.__dict__)\n",
    "    \n",
    "    cls.__str__ = __str__\n",
    "    return cls\n",
    "\n",
    "@add_str\n",
    "class MyObject:\n",
    "    def __init__(self, a, b):\n",
    "        self.a = a\n",
    "        self.b = b\n",
    "\n",
    "o = MyObject(1, 2)\n",
    "print(o)"
   ]
  },
  {
   "attachments": {},
   "cell_type": "markdown",
   "metadata": {},
   "source": [
    "上述代码等价于：`MyObject = add_str(MyObject)`"
   ]
  },
  {
   "cell_type": "markdown",
   "metadata": {},
   "source": []
  }
 ],
 "metadata": {
  "kernelspec": {
   "display_name": "pt",
   "language": "python",
   "name": "python3"
  },
  "language_info": {
   "codemirror_mode": {
    "name": "ipython",
    "version": 3
   },
   "file_extension": ".py",
   "mimetype": "text/x-python",
   "name": "python",
   "nbconvert_exporter": "python",
   "pygments_lexer": "ipython3",
   "version": "3.8.13 (default, Mar 28 2022, 11:38:47) \n[GCC 7.5.0]"
  },
  "orig_nbformat": 4,
  "vscode": {
   "interpreter": {
    "hash": "0309d8ed7dd8a2b067a650184bf138287dc3ac5b65e8a603042037ec1e139bf5"
   }
  }
 },
 "nbformat": 4,
 "nbformat_minor": 2
}
