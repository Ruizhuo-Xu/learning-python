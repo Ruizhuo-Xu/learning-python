{
 "cells": [
  {
   "attachments": {},
   "cell_type": "markdown",
   "metadata": {},
   "source": [
    "# Write Pythonic and Clean Code With namedtuple"
   ]
  },
  {
   "attachments": {},
   "cell_type": "markdown",
   "metadata": {},
   "source": [
    "Python的`collections`模块提供了一个名为`namedtuple()`的factory function。`namedtuple()`是专门设计用于在使用元组时使代码更Pythonic的。使用`namedtuple()`可以创建不可变(immutable)序列类型，允许我们使用描述性的字段名而不是不明确的整数索引来访问它们的值。\n",
    ">>In object-oriented programming, a factory is an object for creating other objects; formally, it is a function or method that returns objects of a varying prototype or class[1] from some method call, which is assumed to be \"new\".[a] More broadly, a subroutine that returns a \"new\" object may be referred to as a \"factory\", as in factory method or factory function. The factory pattern is the basis for a number of related software design patterns."
   ]
  },
  {
   "attachments": {},
   "cell_type": "markdown",
   "metadata": {},
   "source": [
    "## Using `namedtuple` to Write Pythonic Code"
   ]
  },
  {
   "attachments": {},
   "cell_type": "markdown",
   "metadata": {},
   "source": [
    "Python的`namedtuple()`是一个在`collections`模块中的factory function。它允许我们创建具有命名字段(named fields)的元组子类。我们可以使用点表示法和字段名访问给定命名元组中的值，如`obj.attr`\n",
    "\n",
    "`namedtuple()`通过提供一种使用描述性字段名而不是整数索引访问值的方法来提高代码的可读性，而整数索引在大多数情况下不提供关于值是什么的上下文。该特性还使代码更清晰，更易于维护。\n",
    "\n",
    "`namedtuple`的主要特征：\n",
    "- 是不可变(immutable)的数据结构；\n",
    "- 具有一致的哈希值;\n",
    "- 可以当作字典的keys;\n",
    "- 可以存储在集合sets中;\n",
    "- 根据类型和字段名具有有帮助的Docstring;\n",
    "- 提供有用的字符串表示形式，以`name=value`的形式打印元组内容;\n",
    "- 支持索引;\n",
    "- 提供其他方法和属性，例如`_make()`, `_asdict()`, `_fields`等;\n",
    "- 和常规元组向后兼容;\n",
    "- 具有与常规元组相近的内存消耗;\n",
    "\n",
    "一般来说，只要需要类似元组的对象，就可以使用`namedtuple`实例。\n"
   ]
  },
  {
   "attachments": {},
   "cell_type": "markdown",
   "metadata": {},
   "source": [
    "## Creating Tuple-Like Classes With namedtuple()"
   ]
  },
  {
   "attachments": {},
   "cell_type": "markdown",
   "metadata": {},
   "source": [
    "我们使用`truple`来表示一个2D的点："
   ]
  },
  {
   "cell_type": "code",
   "execution_count": 2,
   "metadata": {},
   "outputs": [
    {
     "data": {
      "text/plain": [
       "(2, 4)"
      ]
     },
     "execution_count": 2,
     "metadata": {},
     "output_type": "execute_result"
    }
   ],
   "source": [
    "# create a 2D point as a tuple\n",
    "point = (2, 4)\n",
    "point"
   ]
  },
  {
   "cell_type": "code",
   "execution_count": 3,
   "metadata": {},
   "outputs": [
    {
     "data": {
      "text/plain": [
       "(2, 4)"
      ]
     },
     "execution_count": 3,
     "metadata": {},
     "output_type": "execute_result"
    }
   ],
   "source": [
    "# access coordinate x and y\n",
    "point[0], point[1]"
   ]
  },
  {
   "cell_type": "code",
   "execution_count": 4,
   "metadata": {},
   "outputs": [
    {
     "ename": "TypeError",
     "evalue": "'tuple' object does not support item assignment",
     "output_type": "error",
     "traceback": [
      "\u001b[0;31m---------------------------------------------------------------------------\u001b[0m",
      "\u001b[0;31mTypeError\u001b[0m                                 Traceback (most recent call last)",
      "Cell \u001b[0;32mIn [4], line 2\u001b[0m\n\u001b[1;32m      1\u001b[0m \u001b[39m# try to update a coordinate value\u001b[39;00m\n\u001b[0;32m----> 2\u001b[0m point[\u001b[39m0\u001b[39m] \u001b[39m=\u001b[39m \u001b[39m3\u001b[39m\n",
      "\u001b[0;31mTypeError\u001b[0m: 'tuple' object does not support item assignment"
     ]
    }
   ],
   "source": [
    "# try to update a coordinate value\n",
    "point[0] = 3"
   ]
  },
  {
   "attachments": {},
   "cell_type": "markdown",
   "metadata": {},
   "source": [
    "在上面的代码中，我们使用常规元组创建了一个不可变的2D点。但是该代码的可读性很差，我们不能通过索引推断出值的含义。\n",
    "\n",
    "为了减少这种歧义，我们使用`namedtuple`来表示："
   ]
  },
  {
   "cell_type": "code",
   "execution_count": 5,
   "metadata": {},
   "outputs": [
    {
     "data": {
      "text/plain": [
       "True"
      ]
     },
     "execution_count": 5,
     "metadata": {},
     "output_type": "execute_result"
    }
   ],
   "source": [
    "from collections import namedtuple\n",
    "\n",
    "# create a namedtuple type, Point\n",
    "Point = namedtuple(\"Point\", \"x y\")\n",
    "issubclass(Point, tuple)"
   ]
  },
  {
   "cell_type": "code",
   "execution_count": 6,
   "metadata": {},
   "outputs": [
    {
     "data": {
      "text/plain": [
       "Point(x=2, y=4)"
      ]
     },
     "execution_count": 6,
     "metadata": {},
     "output_type": "execute_result"
    }
   ],
   "source": [
    "# instantiate the new type\n",
    "point = Point(2, 4)\n",
    "point"
   ]
  },
  {
   "cell_type": "code",
   "execution_count": 7,
   "metadata": {},
   "outputs": [
    {
     "data": {
      "text/plain": [
       "(2, 4)"
      ]
     },
     "execution_count": 7,
     "metadata": {},
     "output_type": "execute_result"
    }
   ],
   "source": [
    "# dot notation to access coordinate\n",
    "point.x, point.y"
   ]
  },
  {
   "cell_type": "code",
   "execution_count": 8,
   "metadata": {},
   "outputs": [
    {
     "data": {
      "text/plain": [
       "(2, 4)"
      ]
     },
     "execution_count": 8,
     "metadata": {},
     "output_type": "execute_result"
    }
   ],
   "source": [
    "# indexing to access coordinate\n",
    "point[0], point[1]"
   ]
  },
  {
   "cell_type": "code",
   "execution_count": 9,
   "metadata": {},
   "outputs": [
    {
     "ename": "AttributeError",
     "evalue": "can't set attribute",
     "output_type": "error",
     "traceback": [
      "\u001b[0;31m---------------------------------------------------------------------------\u001b[0m",
      "\u001b[0;31mAttributeError\u001b[0m                            Traceback (most recent call last)",
      "Cell \u001b[0;32mIn [9], line 2\u001b[0m\n\u001b[1;32m      1\u001b[0m \u001b[39m# named tuples are immutable\u001b[39;00m\n\u001b[0;32m----> 2\u001b[0m point\u001b[39m.\u001b[39mx \u001b[39m=\u001b[39m \u001b[39m100\u001b[39m\n",
      "\u001b[0;31mAttributeError\u001b[0m: can't set attribute"
     ]
    }
   ],
   "source": [
    "# named tuples are immutable\n",
    "point.x = 100"
   ]
  },
  {
   "attachments": {},
   "cell_type": "markdown",
   "metadata": {},
   "source": [
    "默认情况下，`Point`的实例会以用户友好的字符串打印。为了使用方便，我们可以同时使用点表示法和索引法来访问每个坐标的值。\n",
    "\n",
    "最后，因为`namedtuple`类是`tuple`类是子类，所以它们也是不可变的。如果我们视图修改一个坐标值，我们会得到一个Error."
   ]
  },
  {
   "attachments": {},
   "cell_type": "markdown",
   "metadata": {},
   "source": [
    "### Providing Required Arguments to namedtuple()"
   ]
  },
  {
   "attachments": {},
   "cell_type": "markdown",
   "metadata": {},
   "source": [
    "为了创建一个新的`namedtuple`，我们需要提供两个位置参数：\n",
    "- **typename**: 为`namedtuple()`函数返回的`namedtuple`(tuple的子类)提供类名\n",
    "- **field_names**: 提供用于访问元组中的值的字段名。可以通过如下方式提供：\n",
    "  - 可迭代的一组字符串，如[\"field1\", \"field2\", ..., \"fieldN\"]\n",
    "  - 用空格分隔的字符串，如 \"field1 field2 ... field3\"\n",
    "  - 用逗号分隔的字符串，如 \"field1, field2,..., field3\""
   ]
  },
  {
   "cell_type": "code",
   "execution_count": 14,
   "metadata": {},
   "outputs": [
    {
     "data": {
      "text/plain": [
       "Point(x=2, y=4)"
      ]
     },
     "execution_count": 14,
     "metadata": {},
     "output_type": "execute_result"
    }
   ],
   "source": [
    "# a list of strings for field names\n",
    "Point = namedtuple(\"Point\", [\"x\", \"y\"])\n",
    "Point(2, 4)"
   ]
  },
  {
   "cell_type": "code",
   "execution_count": 15,
   "metadata": {},
   "outputs": [
    {
     "data": {
      "text/plain": [
       "Point(x=4, y=8)"
      ]
     },
     "execution_count": 15,
     "metadata": {},
     "output_type": "execute_result"
    }
   ],
   "source": [
    "# a string with comma-sep field names\n",
    "Point = namedtuple(\"Point\", \"x, y\")\n",
    "Point(4, 8)"
   ]
  },
  {
   "cell_type": "code",
   "execution_count": 16,
   "metadata": {},
   "outputs": [
    {
     "data": {
      "text/plain": [
       "Point(x=2, y=3)"
      ]
     },
     "execution_count": 16,
     "metadata": {},
     "output_type": "execute_result"
    }
   ],
   "source": [
    "# a generator expression for the field names\n",
    "Point = namedtuple(\"Point\", (field for field in \"xy\"))\n",
    "Point(2, 3)"
   ]
  },
  {
   "attachments": {},
   "cell_type": "markdown",
   "metadata": {},
   "source": [
    "### Using Optional Arguments With namedtuple()"
   ]
  },
  {
   "attachments": {},
   "cell_type": "markdown",
   "metadata": {},
   "source": [
    "除了`typename`和`fieldnames`两个必需的参数，`namedtuple()`还要三个可选的参数：\n",
    "- rename\n",
    "- defaults\n",
    "- module\n",
    "\n",
    "详细阅读：https://realpython.com/python-namedtuple/"
   ]
  },
  {
   "attachments": {},
   "cell_type": "markdown",
   "metadata": {},
   "source": [
    "## Exploring Additional Features of namedtuple Classes"
   ]
  },
  {
   "attachments": {},
   "cell_type": "markdown",
   "metadata": {},
   "source": [
    "除了继承自`tuple`的方法，例如`count()`和`index()`， `namedtuple`类还提供了三个额外的方法和两个属性。为了防止和自定义的字段名称冲突，这些属性和方法的名称都以下划线开头。"
   ]
  },
  {
   "attachments": {},
   "cell_type": "markdown",
   "metadata": {},
   "source": [
    "### Creating namedtuple Instances From Iterables\n",
    "\n",
    "我们可以使用`._make()`方法来创建`namedtuple`实例，该方法接受一个值的可迭代对象，并返回一个新的命名元组。"
   ]
  },
  {
   "cell_type": "code",
   "execution_count": 19,
   "metadata": {},
   "outputs": [
    {
     "data": {
      "text/plain": [
       "Person(name='Jane', age=25, height=1.75)"
      ]
     },
     "execution_count": 19,
     "metadata": {},
     "output_type": "execute_result"
    }
   ],
   "source": [
    "Person = namedtuple(\"Person\", \"name age height\")\n",
    "Person._make([\"Jane\", 25, 1.75])"
   ]
  },
  {
   "attachments": {},
   "cell_type": "markdown",
   "metadata": {},
   "source": [
    "在上面的代码中首先使用`namedtuple()`创建`Person`类，然后使用`._make()`方法构建`Person`实例。`._make()`是一个类方法，可作为替代类构造函数并返回一个新的命名元组实例。"
   ]
  },
  {
   "attachments": {},
   "cell_type": "markdown",
   "metadata": {},
   "source": [
    "### Converting namedtuple Instances Into Dictionaries\n",
    "\n",
    "可以使用`._asdict()`将现有的`namedtuple`实例转换为字典。该方法返回一个使用字段名作为键的新字典。字典的键与原始`namedtuple`中的字段的顺序相同。"
   ]
  },
  {
   "cell_type": "code",
   "execution_count": 20,
   "metadata": {},
   "outputs": [
    {
     "data": {
      "text/plain": [
       "{'name': 'Jane', 'age': 25, 'height': 1.75}"
      ]
     },
     "execution_count": 20,
     "metadata": {},
     "output_type": "execute_result"
    }
   ],
   "source": [
    "Person = namedtuple(\"Person\", \"name age height\")\n",
    "jane = Person(\"Jane\", 25, 1.75)\n",
    "jane._asdict()"
   ]
  },
  {
   "attachments": {},
   "cell_type": "markdown",
   "metadata": {},
   "source": [
    "### Replacing Fields in Existing namedtuple Instances\n",
    "\n",
    "最后一个方法是`._replace()`,该方法接受`field=value`的形式作为关键字参数，并返回一个新的`namedtuple`实例，以更新选定字段的值。"
   ]
  },
  {
   "cell_type": "code",
   "execution_count": 21,
   "metadata": {},
   "outputs": [
    {
     "data": {
      "text/plain": [
       "Person(name='Jane', age=26, height=1.75)"
      ]
     },
     "execution_count": 21,
     "metadata": {},
     "output_type": "execute_result"
    }
   ],
   "source": [
    "Person = namedtuple(\"Person\", \"name age height\")\n",
    "jane = Person(\"Jane\", 25, 1.75)\n",
    "jane = jane._replace(age=26)\n",
    "jane"
   ]
  },
  {
   "attachments": {},
   "cell_type": "markdown",
   "metadata": {},
   "source": [
    "注意，因为`namedtuple`是不可变的，因此`._replace()`方法返回的是新的实例而不是原地的操作"
   ]
  },
  {
   "attachments": {},
   "cell_type": "markdown",
   "metadata": {},
   "source": [
    "### Exploring Additional namedtuple Attributes\n",
    "\n",
    "`namedtuple`有两个额外的实例：`._fields`和`._field_defaults`。前者含有一个列有字段名的字符串元组，后者保存一个字典，将字段名映射到各自的默认值(如果有的话)."
   ]
  },
  {
   "cell_type": "code",
   "execution_count": 22,
   "metadata": {},
   "outputs": [
    {
     "name": "stdout",
     "output_type": "stream",
     "text": [
      "name -> Jane\n",
      "age -> 25\n",
      "height -> 1.75\n"
     ]
    }
   ],
   "source": [
    "Person = namedtuple(\"Person\", \"name age height\")\n",
    "jane = Person(\"Jane\", 25, 1.75)\n",
    "for field, value in zip(jane._fields, jane):  # same as jane._asdict().items()\n",
    "    print(field, \"->\", value)"
   ]
  },
  {
   "cell_type": "code",
   "execution_count": 25,
   "metadata": {},
   "outputs": [
    {
     "data": {
      "text/plain": [
       "{'height': 1.6}"
      ]
     },
     "execution_count": 25,
     "metadata": {},
     "output_type": "execute_result"
    }
   ],
   "source": [
    "Person = namedtuple(\"Person\", \"name age height\", defaults=[1.6])  # 默认值从右往左\n",
    "Person._field_defaults"
   ]
  },
  {
   "attachments": {},
   "cell_type": "markdown",
   "metadata": {},
   "source": [
    "## Writing Pythonic Code With namedtuple\n",
    "后续内容见：https://realpython.com/python-namedtuple/"
   ]
  }
 ],
 "metadata": {
  "kernelspec": {
   "display_name": "pt",
   "language": "python",
   "name": "python3"
  },
  "language_info": {
   "codemirror_mode": {
    "name": "ipython",
    "version": 3
   },
   "file_extension": ".py",
   "mimetype": "text/x-python",
   "name": "python",
   "nbconvert_exporter": "python",
   "pygments_lexer": "ipython3",
   "version": "3.8.13"
  },
  "orig_nbformat": 4,
  "vscode": {
   "interpreter": {
    "hash": "0309d8ed7dd8a2b067a650184bf138287dc3ac5b65e8a603042037ec1e139bf5"
   }
  }
 },
 "nbformat": 4,
 "nbformat_minor": 2
}
