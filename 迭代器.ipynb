{
 "cells": [
  {
   "attachments": {},
   "cell_type": "markdown",
   "metadata": {},
   "source": [
    "**iterable:可迭代对象**\n",
    "\n",
    "每次能够返回一个成员(member)的对象(object)。可迭代对象的例子包括所有序列(sequence)\n",
    "类型(如`list`、`str`和`tuple`)和一些非序列类型,如`dict`、文件对象(`file objects`)，\n",
    "以及任何定义了`__iter__()`方法或定义了实现序列语义的`__getitem__()`方法的对象。\n",
    "\n",
    "可迭代对象(`iterables`)可用于`for`循环和许多其他需要序列的地方(`zip(),map()`)。\n",
    "当一个可迭代对象作为参数传递给内置函数`iter()`时，它将返回该对象的迭代器(`iterator`)。\n",
    "这个迭代器只适用于遍历一组值。当使用可迭代对象时,通常不需要自己调用`iter()`或自己处理迭代器对象。\n",
    "`for`语句将自动完成这一工作，创建一个临时的没有名字的变量来在循环期间保存迭代器。"
   ]
  },
  {
   "attachments": {},
   "cell_type": "markdown",
   "metadata": {},
   "source": [
    "**iterator:迭代器**\n",
    "\n",
    "表示数据流(a stream of data)的对象，重复调用迭代器的`__next__()`方法\n",
    "(或将其传递给内置函数`next()`)将返回流中的连续项。当没有更多可用数据时，将\n",
    "引发`StopIteration`异常。此外，当迭代器对象已耗尽，对其`__next__()`方法的进一步调用都将再次引发`StopIteration`异常。**迭代器需要有一个`__iter__()`方法来返回迭代器对象本身**，这样每个迭代器也是可迭代的，并且可以在大多数接受其他可迭代对象的地方使用。"
   ]
  },
  {
   "cell_type": "code",
   "execution_count": 2,
   "metadata": {},
   "outputs": [
    {
     "name": "stdout",
     "output_type": "stream",
     "text": [
      "n1\n",
      "n2\n",
      "n3\n"
     ]
    }
   ],
   "source": [
    "class NodeIter:\n",
    "    def __init__(self, node):\n",
    "        self.curr_node = node\n",
    "\n",
    "    # 迭代器对象需要实现__next__()方法\n",
    "    def __next__(self):\n",
    "        if self.curr_node is None:\n",
    "            # 迭代器耗尽，抛出异常，终止迭代\n",
    "            raise StopIteration\n",
    "        node, self.curr_node = self.curr_node, self.curr_node.next\n",
    "        return node\n",
    "\n",
    "    # 迭代器对象需要实现__iter__()方法返回自身\n",
    "    def __iter__(self):\n",
    "        return self\n",
    "\n",
    "class Node:\n",
    "    def __init__(self, name):\n",
    "        self.name = name\n",
    "        self.next = None\n",
    "\n",
    "    # 可迭代对象实现__iter__()方法返回迭代器\n",
    "    def __iter__(self):\n",
    "        return NodeIter(self)\n",
    "\n",
    "node1 = Node(\"n1\")\n",
    "node2 = Node(\"n2\")\n",
    "node3 = Node(\"n3\")\n",
    "node1.next = node2\n",
    "node2.next = node3\n",
    "for node in node1:\n",
    "    print(node.name)"
   ]
  },
  {
   "cell_type": "code",
   "execution_count": 4,
   "metadata": {},
   "outputs": [
    {
     "name": "stdout",
     "output_type": "stream",
     "text": [
      "n2\n",
      "n3\n"
     ]
    }
   ],
   "source": [
    "iter_node = iter(node1)\n",
    "first_node = next(iter_node)\n",
    "# 由于迭代器也实现了__iter__()方法，所以也是可迭代对象\n",
    "for node in iter_node:\n",
    "    print(node.name)"
   ]
  },
  {
   "cell_type": "code",
   "execution_count": null,
   "metadata": {},
   "outputs": [],
   "source": []
  }
 ],
 "metadata": {
  "kernelspec": {
   "display_name": "pt",
   "language": "python",
   "name": "python3"
  },
  "language_info": {
   "codemirror_mode": {
    "name": "ipython",
    "version": 3
   },
   "file_extension": ".py",
   "mimetype": "text/x-python",
   "name": "python",
   "nbconvert_exporter": "python",
   "pygments_lexer": "ipython3",
   "version": "3.8.13"
  },
  "orig_nbformat": 4,
  "vscode": {
   "interpreter": {
    "hash": "0309d8ed7dd8a2b067a650184bf138287dc3ac5b65e8a603042037ec1e139bf5"
   }
  }
 },
 "nbformat": 4,
 "nbformat_minor": 2
}
