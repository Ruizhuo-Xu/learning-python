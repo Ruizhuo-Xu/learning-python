{
 "cells": [
  {
   "attachments": {},
   "cell_type": "markdown",
   "metadata": {},
   "source": [
    "生成器本身是一个特殊的迭代器\n",
    "\n",
    "函数中包含`yield`，则Python将其编译为生成器函数，调用生成器函数会返回一个生成器对象。\n",
    "\n",
    "对生成器对象调用`next()`方法时，才开始运行生成器函数中的语句。\n",
    "第一次调用`next()`方法，函数运行到`yield num`语句，然后返回`num`，退出函数，但是函数状态仍然保存，下一次调用`next()`方法，继续运行后续语句。\n",
    "\n",
    "生成器函数中最后的`return`等价于`raise StopIteration`"
   ]
  },
  {
   "cell_type": "code",
   "execution_count": 2,
   "metadata": {},
   "outputs": [
    {
     "name": "stdout",
     "output_type": "stream",
     "text": [
      "5\n",
      "4\n",
      "3\n",
      "2\n",
      "1\n"
     ]
    }
   ],
   "source": [
    "# 定义生成器函数(因为包含yield)\n",
    "def gen(num):\n",
    "    while num > 0:\n",
    "        yield num\n",
    "        num -= 1\n",
    "    return \n",
    "# 定义生成器对象\n",
    "g = gen(5)\n",
    "first = next(g)\n",
    "print(first)\n",
    "for i in g:\n",
    "    print(i)"
   ]
  },
  {
   "cell_type": "code",
   "execution_count": 4,
   "metadata": {},
   "outputs": [
    {
     "name": "stdout",
     "output_type": "stream",
     "text": [
      "n1\n",
      "n2\n",
      "n3\n"
     ]
    }
   ],
   "source": [
    "class Node:\n",
    "    def __init__(self, name) -> None:\n",
    "        self.name = name\n",
    "        self.next = None\n",
    "\n",
    "    # 可迭代对象需要实现__iter__()方法\n",
    "    # 因为该方法中包含yield，因此调用该函数将返回一个生成器对象\n",
    "    # 不写return语句，默认return None\n",
    "    def __iter__(self):\n",
    "        node = self\n",
    "        while node is not None:\n",
    "            yield node\n",
    "            node = node.next\n",
    "\n",
    "node1 = Node(\"n1\")\n",
    "node2 = Node(\"n2\")\n",
    "node3 = Node(\"n3\")\n",
    "node1.next = node2\n",
    "node2.next = node3\n",
    "\n",
    "# for语句等价于先调用iter(node1)生成一个迭代器，再不断的调用next()方法从迭代器中取值\n",
    "for node in node1:\n",
    "    print(node.name)"
   ]
  },
  {
   "attachments": {},
   "cell_type": "markdown",
   "metadata": {},
   "source": [
    "从上面这个例子可以看到，生成器将迭代的状态保存在`frame`(Python的一个概念)里，而之前实现的迭代器是将迭代的状态保持在一个类变量里。"
   ]
  },
  {
   "cell_type": "code",
   "execution_count": 7,
   "metadata": {},
   "outputs": [
    {
     "name": "stdout",
     "output_type": "stream",
     "text": [
      "first:5\n",
      "send:9\n",
      "8\n",
      "7\n",
      "6\n",
      "5\n",
      "4\n",
      "3\n",
      "2\n",
      "1\n"
     ]
    }
   ],
   "source": [
    "def gen(num):\n",
    "    while num > 0:\n",
    "        tmp = yield num\n",
    "        if tmp is not None:\n",
    "            num = tmp\n",
    "        num -= 1\n",
    "\n",
    "g = gen(5)\n",
    "\n",
    "first = next(g)  # 等价于 first = g.send(None)\n",
    "print(f\"first:{first}\")\n",
    "\n",
    "print(f\"send:{g.send(10)}\")\n",
    "\n",
    "for i in g:\n",
    "    print(i)"
   ]
  },
  {
   "cell_type": "code",
   "execution_count": null,
   "metadata": {},
   "outputs": [],
   "source": []
  }
 ],
 "metadata": {
  "kernelspec": {
   "display_name": "pt",
   "language": "python",
   "name": "python3"
  },
  "language_info": {
   "codemirror_mode": {
    "name": "ipython",
    "version": 3
   },
   "file_extension": ".py",
   "mimetype": "text/x-python",
   "name": "python",
   "nbconvert_exporter": "python",
   "pygments_lexer": "ipython3",
   "version": "3.8.13"
  },
  "orig_nbformat": 4,
  "vscode": {
   "interpreter": {
    "hash": "0309d8ed7dd8a2b067a650184bf138287dc3ac5b65e8a603042037ec1e139bf5"
   }
  }
 },
 "nbformat": 4,
 "nbformat_minor": 2
}
